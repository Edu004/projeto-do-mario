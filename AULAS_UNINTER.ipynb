{
  "nbformat": 4,
  "nbformat_minor": 0,
  "metadata": {
    "colab": {
      "provenance": [],
      "authorship_tag": "ABX9TyMc7u/w1ri+q3Gj0D1hgXum",
      "include_colab_link": true
    },
    "kernelspec": {
      "name": "python3",
      "display_name": "Python 3"
    },
    "language_info": {
      "name": "python"
    }
  },
  "cells": [
    {
      "cell_type": "markdown",
      "metadata": {
        "id": "view-in-github",
        "colab_type": "text"
      },
      "source": [
        "<a href=\"https://colab.research.google.com/github/Edu004/projeto-do-mario/blob/main/AULAS_UNINTER.ipynb\" target=\"_parent\"><img src=\"https://colab.research.google.com/assets/colab-badge.svg\" alt=\"Open In Colab\"/></a>"
      ]
    },
    {
      "cell_type": "markdown",
      "source": [
        "Primeiro programa"
      ],
      "metadata": {
        "id": "3JD3y73rMBy9"
      }
    },
    {
      "cell_type": "code",
      "source": [
        "print('olá mundo')"
      ],
      "metadata": {
        "colab": {
          "base_uri": "https://localhost:8080/"
        },
        "id": "FSOuMac4MBQn",
        "outputId": "020e2386-7788-4c79-c2bc-10f8dc2d589f"
      },
      "execution_count": null,
      "outputs": [
        {
          "output_type": "stream",
          "name": "stdout",
          "text": [
            "olá mundo\n"
          ]
        }
      ]
    },
    {
      "cell_type": "code",
      "execution_count": null,
      "metadata": {
        "colab": {
          "base_uri": "https://localhost:8080/"
        },
        "id": "lnziUEw7Li-C",
        "outputId": "40da555a-47e0-41d6-f8a0-ca46a4455218"
      },
      "outputs": [
        {
          "output_type": "stream",
          "name": "stdout",
          "text": [
            "olá mundo\n"
          ]
        }
      ],
      "source": [
        "print('olá mundo')"
      ]
    },
    {
      "cell_type": "code",
      "source": [
        "print(2 + 3)"
      ],
      "metadata": {
        "colab": {
          "base_uri": "https://localhost:8080/"
        },
        "id": "iew2FlY4PD0Y",
        "outputId": "a1bd8d3d-51d0-4363-aae1-35b7a88e3be4"
      },
      "execution_count": null,
      "outputs": [
        {
          "output_type": "stream",
          "name": "stdout",
          "text": [
            "5\n"
          ]
        }
      ]
    },
    {
      "cell_type": "markdown",
      "source": [
        "Concatenação"
      ],
      "metadata": {
        "id": "79k9ICjhPUeM"
      }
    },
    {
      "cell_type": "code",
      "source": [
        "print('2'+'3')"
      ],
      "metadata": {
        "colab": {
          "base_uri": "https://localhost:8080/"
        },
        "id": "uPyQnbwVPESN",
        "outputId": "39ecb2d1-138d-4780-f676-06659538f9e5"
      },
      "execution_count": null,
      "outputs": [
        {
          "output_type": "stream",
          "name": "stdout",
          "text": [
            "23\n"
          ]
        }
      ]
    },
    {
      "cell_type": "markdown",
      "source": [
        "Diferenças na ordem da conta"
      ],
      "metadata": {
        "id": "ymBifYp3Qv9q"
      }
    },
    {
      "cell_type": "code",
      "source": [
        "print(10*(5+7)/4)"
      ],
      "metadata": {
        "colab": {
          "base_uri": "https://localhost:8080/"
        },
        "id": "qo4SepubQeV6",
        "outputId": "7a7468c8-5391-439d-c825-5a5eb98f403d"
      },
      "execution_count": null,
      "outputs": [
        {
          "output_type": "stream",
          "name": "stdout",
          "text": [
            "30.0\n"
          ]
        }
      ]
    },
    {
      "cell_type": "code",
      "source": [
        "print(10*(5+7/4))"
      ],
      "metadata": {
        "colab": {
          "base_uri": "https://localhost:8080/"
        },
        "id": "3vpQDOBnQe8U",
        "outputId": "86faebe7-7238-43ad-b2f4-129c0f9d4f51"
      },
      "execution_count": null,
      "outputs": [
        {
          "output_type": "stream",
          "name": "stdout",
          "text": [
            "67.5\n"
          ]
        }
      ]
    },
    {
      "cell_type": "code",
      "source": [
        "nota=8.5\n",
        "materia='lógica de programação'\n",
        "\n",
        "print(nota)\n",
        "print(materia)"
      ],
      "metadata": {
        "colab": {
          "base_uri": "https://localhost:8080/"
        },
        "id": "5elZSSyiljCh",
        "outputId": "56be1bb1-9007-46e2-d3ea-af6ef9746c26"
      },
      "execution_count": null,
      "outputs": [
        {
          "output_type": "stream",
          "name": "stdout",
          "text": [
            "8.5\n",
            "lógica de programação\n"
          ]
        }
      ]
    },
    {
      "cell_type": "markdown",
      "source": [
        "Variável lógica"
      ],
      "metadata": {
        "id": "z0LoXR2uY-ab"
      }
    },
    {
      "cell_type": "code",
      "source": [
        "a= 1\n",
        "b= 5\n",
        "\n",
        "resposta= a ==b\n",
        "print(resposta)"
      ],
      "metadata": {
        "colab": {
          "base_uri": "https://localhost:8080/"
        },
        "id": "hsPHJ-2qljuJ",
        "outputId": "eebf9471-175d-4b0e-9642-a4846d756748"
      },
      "execution_count": null,
      "outputs": [
        {
          "output_type": "stream",
          "name": "stdout",
          "text": [
            "False\n"
          ]
        }
      ]
    },
    {
      "cell_type": "code",
      "source": [
        "a= 1\n",
        "b= 5\n",
        "\n",
        "resposta= a !=b\n",
        "print(resposta)"
      ],
      "metadata": {
        "colab": {
          "base_uri": "https://localhost:8080/"
        },
        "id": "vsBwXrFKY2H2",
        "outputId": "2e17984d-2228-46fa-a747-96827abb74cf"
      },
      "execution_count": null,
      "outputs": [
        {
          "output_type": "stream",
          "name": "stdout",
          "text": [
            "True\n"
          ]
        }
      ]
    },
    {
      "cell_type": "markdown",
      "source": [
        "Variável string (usar os índices)"
      ],
      "metadata": {
        "id": "9tcCqUQca6ZK"
      }
    },
    {
      "cell_type": "code",
      "source": [
        "texto='coe mano'\n",
        "print(texto[2])"
      ],
      "metadata": {
        "colab": {
          "base_uri": "https://localhost:8080/"
        },
        "id": "l9JAnX7na9d9",
        "outputId": "6af210ae-e370-4412-be9c-d1a2df994709"
      },
      "execution_count": null,
      "outputs": [
        {
          "output_type": "stream",
          "name": "stdout",
          "text": [
            "e\n"
          ]
        }
      ]
    },
    {
      "cell_type": "markdown",
      "source": [
        "Concatenação de string"
      ],
      "metadata": {
        "id": "LCkBWaNgb_fo"
      }
    },
    {
      "cell_type": "code",
      "source": [
        "s1='lógica de programação'\n",
        "s1= s1 +' e algoritmos'\n",
        "\n",
        "print(s1)"
      ],
      "metadata": {
        "colab": {
          "base_uri": "https://localhost:8080/"
        },
        "id": "TIPgf6h8cCKA",
        "outputId": "278cb9cd-c739-4576-832b-8c4a317179ba"
      },
      "execution_count": null,
      "outputs": [
        {
          "output_type": "stream",
          "name": "stdout",
          "text": [
            "lógica de programação e algoritmos\n"
          ]
        }
      ]
    },
    {
      "cell_type": "markdown",
      "source": [
        "Usando a multiplicação de algum texto"
      ],
      "metadata": {
        "id": "1tPkM6obczwa"
      }
    },
    {
      "cell_type": "code",
      "source": [
        "s1 ='A' + 'felps' * 10 +'B' # a palavra felps é repetida 10 vezes graças ao *\n",
        "print(s1)"
      ],
      "metadata": {
        "colab": {
          "base_uri": "https://localhost:8080/"
        },
        "id": "TA4GFCL0cX3N",
        "outputId": "e411d639-c389-4d0c-f12f-8db5dcc6c60d"
      },
      "execution_count": null,
      "outputs": [
        {
          "output_type": "stream",
          "name": "stdout",
          "text": [
            "AfelpsfelpsfelpsfelpsfelpsfelpsfelpsfelpsfelpsfelpsB\n"
          ]
        }
      ]
    },
    {
      "cell_type": "markdown",
      "source": [
        "Composição"
      ],
      "metadata": {
        "id": "8GegfxjndDOE"
      }
    },
    {
      "cell_type": "code",
      "source": [
        "nota=8.5\n",
        "s1 ='Você tirou %f na disciplina de algoritmos' %nota\n",
        "print(s1)"
      ],
      "metadata": {
        "colab": {
          "base_uri": "https://localhost:8080/"
        },
        "id": "fUMNmJykdGEb",
        "outputId": "d9996fa8-0742-43e7-fea1-eed4270c5c9e"
      },
      "execution_count": null,
      "outputs": [
        {
          "output_type": "stream",
          "name": "stdout",
          "text": [
            "Você tirou 8.500000 na disciplina de algoritmos\n"
          ]
        }
      ]
    },
    {
      "cell_type": "markdown",
      "source": [
        "Limitando as casas decimais"
      ],
      "metadata": {
        "id": "ZfrMclULd0hV"
      }
    },
    {
      "cell_type": "code",
      "source": [
        "nota=8.5\n",
        "s1 ='Você tirou %.2f na disciplina de algoritmos' %nota\n",
        "print(s1)"
      ],
      "metadata": {
        "colab": {
          "base_uri": "https://localhost:8080/"
        },
        "id": "xh4n4bXkd8pT",
        "outputId": "9c0968fa-f915-43d4-b138-bfa6dee0f1cf"
      },
      "execution_count": null,
      "outputs": [
        {
          "output_type": "stream",
          "name": "stdout",
          "text": [
            "Você tirou 8.50 na disciplina de algoritmos\n"
          ]
        }
      ]
    },
    {
      "cell_type": "markdown",
      "source": [
        "Mais de uma variável"
      ],
      "metadata": {
        "id": "Dn-wfIQCesGM"
      }
    },
    {
      "cell_type": "code",
      "source": [
        "nota=8.5\n",
        "disciplina='Algoritmos'\n",
        "s1 ='Você tirou %.2f na disciplina de %s' %(nota,disciplina)\n",
        "print(s1)"
      ],
      "metadata": {
        "colab": {
          "base_uri": "https://localhost:8080/"
        },
        "id": "PmNBjXZieQRp",
        "outputId": "57aad215-b92e-411e-b3e2-3fda365a6593"
      },
      "execution_count": null,
      "outputs": [
        {
          "output_type": "stream",
          "name": "stdout",
          "text": [
            "Você tirou 8.50 na disciplina de Algoritmos\n"
          ]
        }
      ]
    },
    {
      "cell_type": "markdown",
      "source": [
        "Composição mais fácil(sem ter que decorar %f e tudo mais)"
      ],
      "metadata": {
        "id": "hXwVUK5nf8qX"
      }
    },
    {
      "cell_type": "code",
      "source": [
        "nota=8.5\n",
        "disciplina='Algoritmos'\n",
        "s1 ='Você tirou {} na disciplina de {}' .format(nota,disciplina)\n",
        "print(s1)"
      ],
      "metadata": {
        "colab": {
          "base_uri": "https://localhost:8080/"
        },
        "id": "j6YnoB11gC_P",
        "outputId": "d0878c0f-b98e-42ef-cc15-bfa94ec308f3"
      },
      "execution_count": null,
      "outputs": [
        {
          "output_type": "stream",
          "name": "stdout",
          "text": [
            "Você tirou 8.5 na disciplina de Algoritmos\n"
          ]
        }
      ]
    },
    {
      "cell_type": "markdown",
      "source": [
        "Fatiamento"
      ],
      "metadata": {
        "id": "brDdiCYTgekc"
      }
    },
    {
      "cell_type": "code",
      "source": [
        "s1='Lógica de Programação e Algoritmos'\n",
        "print(s1[0:6])"
      ],
      "metadata": {
        "colab": {
          "base_uri": "https://localhost:8080/"
        },
        "id": "NOO0tPxYghD3",
        "outputId": "2a2f4fd8-73b2-48c2-b4c6-c6bf970aaf60"
      },
      "execution_count": null,
      "outputs": [
        {
          "output_type": "stream",
          "name": "stdout",
          "text": [
            "Lógica\n"
          ]
        }
      ]
    },
    {
      "cell_type": "code",
      "source": [
        "s1='Lógica de Programação e Algoritmos'\n",
        "print(s1[24:34])"
      ],
      "metadata": {
        "colab": {
          "base_uri": "https://localhost:8080/"
        },
        "id": "DwSTZi9NgxZN",
        "outputId": "deb454e7-a5a3-4bb1-e168-ef04dd8897fc"
      },
      "execution_count": null,
      "outputs": [
        {
          "output_type": "stream",
          "name": "stdout",
          "text": [
            "Algoritmos\n"
          ]
        }
      ]
    },
    {
      "cell_type": "code",
      "source": [
        "s1='Lógica de Programação e Algoritmos'\n",
        "print(s1[:6])"
      ],
      "metadata": {
        "colab": {
          "base_uri": "https://localhost:8080/"
        },
        "id": "uCDaTYQxgxGG",
        "outputId": "2c92b4c7-c9dc-4efd-b04b-64e96b91a5dd"
      },
      "execution_count": null,
      "outputs": [
        {
          "output_type": "stream",
          "name": "stdout",
          "text": [
            "Lógica\n"
          ]
        }
      ]
    },
    {
      "cell_type": "markdown",
      "source": [
        "Tamanho"
      ],
      "metadata": {
        "id": "x2XXWu-5hLLc"
      }
    },
    {
      "cell_type": "code",
      "source": [
        "s1='Lógica de programação e algoritmos'\n",
        "tamanho=len(s1)\n",
        "print(tamanho)"
      ],
      "metadata": {
        "colab": {
          "base_uri": "https://localhost:8080/"
        },
        "id": "m3VPrijbhNLc",
        "outputId": "744fd758-c43c-4c41-bc12-14a65714f86c"
      },
      "execution_count": null,
      "outputs": [
        {
          "output_type": "stream",
          "name": "stdout",
          "text": [
            "34\n"
          ]
        }
      ]
    },
    {
      "cell_type": "markdown",
      "source": [
        "Função de entrada = input"
      ],
      "metadata": {
        "id": "p_lunz3U2hG0"
      }
    },
    {
      "cell_type": "code",
      "source": [
        "idade=input('Qual sua idade?')\n",
        "print(input)"
      ],
      "metadata": {
        "colab": {
          "base_uri": "https://localhost:8080/"
        },
        "id": "BUal6GPD2jh6",
        "outputId": "fd577495-8e51-4348-abef-7bd04f44c488"
      },
      "execution_count": null,
      "outputs": [
        {
          "output_type": "stream",
          "name": "stdout",
          "text": [
            "Qual sua idade?50\n",
            "<bound method Kernel.raw_input of <google.colab._kernel.Kernel object at 0x7fa5a54f9000>>\n"
          ]
        }
      ]
    },
    {
      "cell_type": "code",
      "source": [
        "nome=input('Qual seu nome?')\n",
        "print('Olá {},seja bem vindo!'.format(nome))"
      ],
      "metadata": {
        "colab": {
          "base_uri": "https://localhost:8080/"
        },
        "id": "A5kOQW423YTT",
        "outputId": "3fc33c82-85ea-4f4d-f8bf-5ca896e8081f"
      },
      "execution_count": null,
      "outputs": [
        {
          "output_type": "stream",
          "name": "stdout",
          "text": [
            "Qual seu nome?Eduardo\n",
            "Olá Eduardo,seja bem vindo!\n"
          ]
        }
      ]
    },
    {
      "cell_type": "markdown",
      "source": [
        "Convertendo dados de entrada"
      ],
      "metadata": {
        "id": "AEndaBMo39-u"
      }
    },
    {
      "cell_type": "code",
      "source": [
        "nota= float(input('Qual nota você teve na disciplina?'))\n",
        "print('Você tirou nota {}.' .format(nota))"
      ],
      "metadata": {
        "colab": {
          "base_uri": "https://localhost:8080/"
        },
        "id": "lLwUf2Dk4A4A",
        "outputId": "6e880bf5-7ddf-4b9d-97b9-17ed8d57f924"
      },
      "execution_count": null,
      "outputs": [
        {
          "output_type": "stream",
          "name": "stdout",
          "text": [
            "Qual nota você teve na disciplina?8.6\n",
            "Você tirou nota 8.6.\n"
          ]
        }
      ]
    },
    {
      "cell_type": "markdown",
      "source": [
        "Exercício de mandar 2 numeros e sua soma"
      ],
      "metadata": {
        "id": "dX4apIk55rBC"
      }
    },
    {
      "cell_type": "code",
      "source": [
        "x=int(input('Digite um número inteiro'))\n",
        "y=int(input('Digite outro número inteiro'))\n",
        "\n",
        "res='O resultado de {} mais {} é {}'.format(x,y,x+y)\n",
        "print(res)"
      ],
      "metadata": {
        "colab": {
          "base_uri": "https://localhost:8080/"
        },
        "id": "O4tDs9ZR5w6w",
        "outputId": "72032a61-4688-4f11-daec-0bc5eabf2153"
      },
      "execution_count": null,
      "outputs": [
        {
          "output_type": "stream",
          "name": "stdout",
          "text": [
            "Digite um número inteiro8\n",
            "Digite outro número inteiro5\n",
            "O resultado de 8 mais 5 é 13\n"
          ]
        }
      ]
    },
    {
      "cell_type": "markdown",
      "source": [
        "Condicional simples"
      ],
      "metadata": {
        "id": "2XZ9_iNQ8o-N"
      }
    },
    {
      "cell_type": "code",
      "source": [
        "#Ler 2 valores inteiros e compará-los\n",
        "\n",
        "x=int(input('Qual o número 1?'))\n",
        "y=int(input('Qual o número 2?'))\n",
        "if (x>y):\n",
        "  print('O primeiro número é maior que o segundo')"
      ],
      "metadata": {
        "colab": {
          "base_uri": "https://localhost:8080/"
        },
        "id": "tcmtqOz-8sDj",
        "outputId": "177a26d1-15bf-4aa1-d905-76dbbb2094b5"
      },
      "execution_count": 3,
      "outputs": [
        {
          "name": "stdout",
          "output_type": "stream",
          "text": [
            "Qual o número 1?8\n",
            "Qual o número 2?29\n"
          ]
        }
      ]
    },
    {
      "cell_type": "markdown",
      "source": [
        "Condicional composta = o else"
      ],
      "metadata": {
        "id": "0C_e4oV4_Kmm"
      }
    },
    {
      "cell_type": "code",
      "source": [
        "#par ou ímpar\n",
        "x=int(input('Qual o número 1?'))\n",
        "if (x % 2 ==0):\n",
        " print('O número é par!')\n",
        "else:\n",
        " print('O número é ímpar')"
      ],
      "metadata": {
        "colab": {
          "base_uri": "https://localhost:8080/"
        },
        "id": "t9cZWBPY_PW_",
        "outputId": "044eebc3-43d7-4c8e-e6c3-57395cf32c38"
      },
      "execution_count": 10,
      "outputs": [
        {
          "output_type": "stream",
          "name": "stdout",
          "text": [
            "Qual o número 1?5\n",
            "O número é ímpar\n"
          ]
        }
      ]
    },
    {
      "cell_type": "markdown",
      "source": [
        "Operadores lógicos/booleanos"
      ],
      "metadata": {
        "id": "TZwe4S0NH7zY"
      }
    },
    {
      "cell_type": "code",
      "source": [
        "#not\n",
        "\n",
        "x=True\n",
        "y=False\n",
        "print(not x)\n",
        "print(not y)"
      ],
      "metadata": {
        "colab": {
          "base_uri": "https://localhost:8080/"
        },
        "id": "lw2P_TYVIAPs",
        "outputId": "195e359a-68c9-442c-cb4e-843afd7ec433"
      },
      "execution_count": 11,
      "outputs": [
        {
          "output_type": "stream",
          "name": "stdout",
          "text": [
            "False\n",
            "True\n"
          ]
        }
      ]
    },
    {
      "cell_type": "code",
      "source": [
        "#and\n",
        "x=True\n",
        "y=False\n",
        "print(x and y)"
      ],
      "metadata": {
        "colab": {
          "base_uri": "https://localhost:8080/"
        },
        "id": "K6TN_DYfIOEA",
        "outputId": "a60d743f-d6d3-4422-fa86-f6ee081bd1fe"
      },
      "execution_count": 12,
      "outputs": [
        {
          "output_type": "stream",
          "name": "stdout",
          "text": [
            "False\n"
          ]
        }
      ]
    },
    {
      "cell_type": "code",
      "source": [
        "#or\n",
        "x=True\n",
        "y=False\n",
        "print(x or y)"
      ],
      "metadata": {
        "colab": {
          "base_uri": "https://localhost:8080/"
        },
        "id": "4V915bNHIPNa",
        "outputId": "c0fce152-4613-4908-cafe-7475b69c9444"
      },
      "execution_count": 13,
      "outputs": [
        {
          "output_type": "stream",
          "name": "stdout",
          "text": [
            "True\n"
          ]
        }
      ]
    },
    {
      "cell_type": "markdown",
      "source": [
        "Expressões lógicas/booleanas"
      ],
      "metadata": {
        "id": "gmKCe2EwIn8W"
      }
    },
    {
      "cell_type": "code",
      "source": [
        "x= 10\n",
        "y= 1\n",
        "res= not x > y\n",
        "print(res)"
      ],
      "metadata": {
        "colab": {
          "base_uri": "https://localhost:8080/"
        },
        "id": "3yL2dmEcIsQA",
        "outputId": "6b0f5cf7-b559-418d-e2e6-088321cf0343"
      },
      "execution_count": 14,
      "outputs": [
        {
          "output_type": "stream",
          "name": "stdout",
          "text": [
            "False\n"
          ]
        }
      ]
    },
    {
      "cell_type": "code",
      "source": [
        "x= 10\n",
        "y= 1\n",
        "z= 5.5\n",
        "res= x > y and z == y\n",
        "print(res)"
      ],
      "metadata": {
        "colab": {
          "base_uri": "https://localhost:8080/"
        },
        "id": "U3FJ2jn8JXXH",
        "outputId": "e7e71a81-718b-4221-e3ac-f92c3257ef2b"
      },
      "execution_count": 15,
      "outputs": [
        {
          "output_type": "stream",
          "name": "stdout",
          "text": [
            "False\n"
          ]
        }
      ]
    },
    {
      "cell_type": "code",
      "source": [
        "#Notas do aluno se ele será reprovado ou não\n",
        "m1=float(input('Qual a nota da 1 matéria?'))\n",
        "m2=float(input('Qual a nota da 2 matéria?'))\n",
        "m3=float(input('Qual a nota da 3 matéria?'))\n",
        "\n",
        "if m1 >= 7 and m2 >= 7 and m3 >= 7:\n",
        " print('O aluno foi aprovado!')\n",
        "else:\n",
        " print('O aluno foi reprovado;-;')"
      ],
      "metadata": {
        "colab": {
          "base_uri": "https://localhost:8080/"
        },
        "id": "KuGl8ST1JrSg",
        "outputId": "5b52adb8-6496-45ab-aa9d-a4e6c31db389"
      },
      "execution_count": 18,
      "outputs": [
        {
          "output_type": "stream",
          "name": "stdout",
          "text": [
            "Qual a nota da 1 matéria?8\n",
            "Qual a nota da 2 matéria?9\n",
            "Qual a nota da 3 matéria?7\n",
            "O aluno foi aprovado!\n"
          ]
        }
      ]
    },
    {
      "cell_type": "code",
      "source": [
        "#Exercício das frutas\n",
        "\n",
        "print('Escolha o que tu quer meu mano')\n",
        "print('1 - Maçã')\n",
        "print('2 - Laranja')\n",
        "print('3 - Banana')\n",
        "produto=int(input('Qual você escolhe?'))\n",
        "qtd=int(input('Quantas meu nobre?'))\n",
        "if(produto == 1 ):\n",
        "  pagar=qtd * 2.3\n",
        "  print('Você comprou {} maças.Total a pagar:{}' .format(qtd,pagar))\n",
        "else:\n",
        " if(produto == 2):\n",
        "  pagar=qtd * 3.6\n",
        "  print('Você comprou {}laranjas.Total a pagar {}' .format(qtd,pagar))\n",
        " else:\n",
        "  if(produto == 3):\n",
        "   pagar=qtd * 1.85\n",
        "   print('Você comprou {}bananas.Total a pagar {}' .format(qtd,pagar))\n",
        "  else:\n",
        "    print('Produto inexistente!')\n",
        "\n"
      ],
      "metadata": {
        "colab": {
          "base_uri": "https://localhost:8080/"
        },
        "id": "zSz-fMy9A0r6",
        "outputId": "059b9e98-1553-4d81-b5fe-08c41039b38f"
      },
      "execution_count": 9,
      "outputs": [
        {
          "output_type": "stream",
          "name": "stdout",
          "text": [
            "Escolha o que tu quer meu mano\n",
            "1 - Maçã\n",
            "2 - Laranja\n",
            "3 - Banana\n",
            "Qual você escolhe?2\n",
            "Quantas meu nobre?30\n",
            "Você comprou 30laranjas.Total a pagar 108.0\n"
          ]
        }
      ]
    }
  ]
}